{
 "cells": [
  {
   "cell_type": "code",
   "execution_count": 1,
   "id": "e6ed400c",
   "metadata": {},
   "outputs": [],
   "source": [
    "import os\n",
    "import sys\n",
    "\n",
    "import numpy as np\n",
    "import pandas as pd\n",
    "\n",
    "import matplotlib.pyplot as plt\n",
    "%matplotlib inline"
   ]
  },
  {
   "cell_type": "code",
   "execution_count": 2,
   "id": "5d1ee963",
   "metadata": {},
   "outputs": [],
   "source": [
    "CWD = os.getcwd()"
   ]
  },
  {
   "cell_type": "code",
   "execution_count": 3,
   "id": "f405dc8a",
   "metadata": {},
   "outputs": [],
   "source": [
    "SRC_FOLDER = os.path.join(os.path.dirname(CWD), \"src\")"
   ]
  },
  {
   "cell_type": "code",
   "execution_count": 4,
   "id": "45470f13",
   "metadata": {},
   "outputs": [
    {
     "name": "stdout",
     "output_type": "stream",
     "text": [
      "\u001b[34m__pycache__\u001b[m\u001b[m helpers.py\r\n"
     ]
    }
   ],
   "source": [
    "! ls {SRC_FOLDER}"
   ]
  },
  {
   "cell_type": "code",
   "execution_count": 5,
   "id": "87ca335b",
   "metadata": {},
   "outputs": [],
   "source": [
    "# sys.modules"
   ]
  },
  {
   "cell_type": "code",
   "execution_count": 6,
   "id": "58cb30c0",
   "metadata": {},
   "outputs": [],
   "source": [
    "sys.path.insert(0, SRC_FOLDER)"
   ]
  },
  {
   "cell_type": "code",
   "execution_count": 7,
   "id": "0e18ed64",
   "metadata": {},
   "outputs": [],
   "source": [
    "from helpers import clean_df"
   ]
  },
  {
   "cell_type": "code",
   "execution_count": 8,
   "id": "25b47645",
   "metadata": {},
   "outputs": [],
   "source": [
    "DATA_FOLDER = os.path.join(os.path.dirname(CWD), \"data\")"
   ]
  },
  {
   "cell_type": "code",
   "execution_count": 9,
   "id": "4e96306a",
   "metadata": {},
   "outputs": [
    {
     "name": "stdout",
     "output_type": "stream",
     "text": [
      "user_behavior_dataset.csv\r\n"
     ]
    }
   ],
   "source": [
    "! ls {DATA_FOLDER}"
   ]
  },
  {
   "cell_type": "code",
   "execution_count": 10,
   "id": "5477ade3",
   "metadata": {},
   "outputs": [],
   "source": [
    "FILE_PATH = os.path.join(DATA_FOLDER, \"user_behavior_dataset.csv\")"
   ]
  },
  {
   "cell_type": "code",
   "execution_count": 11,
   "id": "67ba8ca7",
   "metadata": {},
   "outputs": [],
   "source": [
    "df = clean_df(path = FILE_PATH)"
   ]
  },
  {
   "cell_type": "code",
   "execution_count": 12,
   "id": "623427ca",
   "metadata": {},
   "outputs": [
    {
     "data": {
      "text/html": [
       "<div>\n",
       "<style scoped>\n",
       "    .dataframe tbody tr th:only-of-type {\n",
       "        vertical-align: middle;\n",
       "    }\n",
       "\n",
       "    .dataframe tbody tr th {\n",
       "        vertical-align: top;\n",
       "    }\n",
       "\n",
       "    .dataframe thead th {\n",
       "        text-align: right;\n",
       "    }\n",
       "</style>\n",
       "<table border=\"1\" class=\"dataframe\">\n",
       "  <thead>\n",
       "    <tr style=\"text-align: right;\">\n",
       "      <th></th>\n",
       "      <th>DeviceModel</th>\n",
       "      <th>OperatingSystem</th>\n",
       "      <th>AppUsageTime</th>\n",
       "      <th>ScreenOnTime</th>\n",
       "      <th>BatteryDrain</th>\n",
       "      <th>NumberofAppsInstalled</th>\n",
       "      <th>DataUsage</th>\n",
       "      <th>Age</th>\n",
       "      <th>Gender</th>\n",
       "      <th>UserBehaviorClass</th>\n",
       "    </tr>\n",
       "    <tr>\n",
       "      <th>UserID</th>\n",
       "      <th></th>\n",
       "      <th></th>\n",
       "      <th></th>\n",
       "      <th></th>\n",
       "      <th></th>\n",
       "      <th></th>\n",
       "      <th></th>\n",
       "      <th></th>\n",
       "      <th></th>\n",
       "      <th></th>\n",
       "    </tr>\n",
       "  </thead>\n",
       "  <tbody>\n",
       "    <tr>\n",
       "      <th>1</th>\n",
       "      <td>1</td>\n",
       "      <td>0</td>\n",
       "      <td>393</td>\n",
       "      <td>6.4</td>\n",
       "      <td>1872</td>\n",
       "      <td>67</td>\n",
       "      <td>1122</td>\n",
       "      <td>40</td>\n",
       "      <td>1</td>\n",
       "      <td>4</td>\n",
       "    </tr>\n",
       "    <tr>\n",
       "      <th>2</th>\n",
       "      <td>2</td>\n",
       "      <td>0</td>\n",
       "      <td>268</td>\n",
       "      <td>4.7</td>\n",
       "      <td>1331</td>\n",
       "      <td>42</td>\n",
       "      <td>944</td>\n",
       "      <td>47</td>\n",
       "      <td>0</td>\n",
       "      <td>3</td>\n",
       "    </tr>\n",
       "    <tr>\n",
       "      <th>3</th>\n",
       "      <td>4</td>\n",
       "      <td>0</td>\n",
       "      <td>154</td>\n",
       "      <td>4.0</td>\n",
       "      <td>761</td>\n",
       "      <td>32</td>\n",
       "      <td>322</td>\n",
       "      <td>42</td>\n",
       "      <td>1</td>\n",
       "      <td>2</td>\n",
       "    </tr>\n",
       "    <tr>\n",
       "      <th>4</th>\n",
       "      <td>1</td>\n",
       "      <td>0</td>\n",
       "      <td>239</td>\n",
       "      <td>4.8</td>\n",
       "      <td>1676</td>\n",
       "      <td>56</td>\n",
       "      <td>871</td>\n",
       "      <td>20</td>\n",
       "      <td>1</td>\n",
       "      <td>3</td>\n",
       "    </tr>\n",
       "    <tr>\n",
       "      <th>5</th>\n",
       "      <td>5</td>\n",
       "      <td>1</td>\n",
       "      <td>187</td>\n",
       "      <td>4.3</td>\n",
       "      <td>1367</td>\n",
       "      <td>58</td>\n",
       "      <td>988</td>\n",
       "      <td>31</td>\n",
       "      <td>0</td>\n",
       "      <td>3</td>\n",
       "    </tr>\n",
       "    <tr>\n",
       "      <th>...</th>\n",
       "      <td>...</td>\n",
       "      <td>...</td>\n",
       "      <td>...</td>\n",
       "      <td>...</td>\n",
       "      <td>...</td>\n",
       "      <td>...</td>\n",
       "      <td>...</td>\n",
       "      <td>...</td>\n",
       "      <td>...</td>\n",
       "      <td>...</td>\n",
       "    </tr>\n",
       "    <tr>\n",
       "      <th>696</th>\n",
       "      <td>5</td>\n",
       "      <td>1</td>\n",
       "      <td>92</td>\n",
       "      <td>3.9</td>\n",
       "      <td>1082</td>\n",
       "      <td>26</td>\n",
       "      <td>381</td>\n",
       "      <td>22</td>\n",
       "      <td>1</td>\n",
       "      <td>2</td>\n",
       "    </tr>\n",
       "    <tr>\n",
       "      <th>697</th>\n",
       "      <td>4</td>\n",
       "      <td>0</td>\n",
       "      <td>316</td>\n",
       "      <td>6.8</td>\n",
       "      <td>1965</td>\n",
       "      <td>68</td>\n",
       "      <td>1201</td>\n",
       "      <td>59</td>\n",
       "      <td>1</td>\n",
       "      <td>4</td>\n",
       "    </tr>\n",
       "    <tr>\n",
       "      <th>698</th>\n",
       "      <td>1</td>\n",
       "      <td>0</td>\n",
       "      <td>99</td>\n",
       "      <td>3.1</td>\n",
       "      <td>942</td>\n",
       "      <td>22</td>\n",
       "      <td>457</td>\n",
       "      <td>50</td>\n",
       "      <td>0</td>\n",
       "      <td>2</td>\n",
       "    </tr>\n",
       "    <tr>\n",
       "      <th>699</th>\n",
       "      <td>3</td>\n",
       "      <td>0</td>\n",
       "      <td>62</td>\n",
       "      <td>1.7</td>\n",
       "      <td>431</td>\n",
       "      <td>13</td>\n",
       "      <td>224</td>\n",
       "      <td>44</td>\n",
       "      <td>1</td>\n",
       "      <td>1</td>\n",
       "    </tr>\n",
       "    <tr>\n",
       "      <th>700</th>\n",
       "      <td>2</td>\n",
       "      <td>0</td>\n",
       "      <td>212</td>\n",
       "      <td>5.4</td>\n",
       "      <td>1306</td>\n",
       "      <td>49</td>\n",
       "      <td>828</td>\n",
       "      <td>23</td>\n",
       "      <td>0</td>\n",
       "      <td>3</td>\n",
       "    </tr>\n",
       "  </tbody>\n",
       "</table>\n",
       "<p>700 rows × 10 columns</p>\n",
       "</div>"
      ],
      "text/plain": [
       "        DeviceModel  OperatingSystem  AppUsageTime  ScreenOnTime  \\\n",
       "UserID                                                             \n",
       "1                 1                0           393           6.4   \n",
       "2                 2                0           268           4.7   \n",
       "3                 4                0           154           4.0   \n",
       "4                 1                0           239           4.8   \n",
       "5                 5                1           187           4.3   \n",
       "...             ...              ...           ...           ...   \n",
       "696               5                1            92           3.9   \n",
       "697               4                0           316           6.8   \n",
       "698               1                0            99           3.1   \n",
       "699               3                0            62           1.7   \n",
       "700               2                0           212           5.4   \n",
       "\n",
       "        BatteryDrain  NumberofAppsInstalled  DataUsage  Age  Gender  \\\n",
       "UserID                                                                \n",
       "1               1872                     67       1122   40       1   \n",
       "2               1331                     42        944   47       0   \n",
       "3                761                     32        322   42       1   \n",
       "4               1676                     56        871   20       1   \n",
       "5               1367                     58        988   31       0   \n",
       "...              ...                    ...        ...  ...     ...   \n",
       "696             1082                     26        381   22       1   \n",
       "697             1965                     68       1201   59       1   \n",
       "698              942                     22        457   50       0   \n",
       "699              431                     13        224   44       1   \n",
       "700             1306                     49        828   23       0   \n",
       "\n",
       "        UserBehaviorClass  \n",
       "UserID                     \n",
       "1                       4  \n",
       "2                       3  \n",
       "3                       2  \n",
       "4                       3  \n",
       "5                       3  \n",
       "...                   ...  \n",
       "696                     2  \n",
       "697                     4  \n",
       "698                     2  \n",
       "699                     1  \n",
       "700                     3  \n",
       "\n",
       "[700 rows x 10 columns]"
      ]
     },
     "execution_count": 12,
     "metadata": {},
     "output_type": "execute_result"
    }
   ],
   "source": [
    "df"
   ]
  },
  {
   "cell_type": "code",
   "execution_count": null,
   "id": "0d6d46e2",
   "metadata": {},
   "outputs": [],
   "source": []
  }
 ],
 "metadata": {
  "kernelspec": {
   "display_name": "env_aaamlp",
   "language": "python",
   "name": "env_aaamlp"
  },
  "language_info": {
   "codemirror_mode": {
    "name": "ipython",
    "version": 3
   },
   "file_extension": ".py",
   "mimetype": "text/x-python",
   "name": "python",
   "nbconvert_exporter": "python",
   "pygments_lexer": "ipython3",
   "version": "3.10.15"
  }
 },
 "nbformat": 4,
 "nbformat_minor": 5
}
