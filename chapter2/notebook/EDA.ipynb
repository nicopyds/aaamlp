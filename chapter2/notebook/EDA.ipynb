{
 "cells": [
  {
   "cell_type": "code",
   "execution_count": 1,
   "id": "e6ed400c",
   "metadata": {},
   "outputs": [],
   "source": [
    "import os\n",
    "import sys\n",
    "\n",
    "import numpy as np\n",
    "import pandas as pd\n",
    "\n",
    "import matplotlib.pyplot as plt\n",
    "\n",
    "%matplotlib inline"
   ]
  },
  {
   "cell_type": "code",
   "execution_count": 2,
   "id": "5d1ee963",
   "metadata": {},
   "outputs": [],
   "source": [
    "CWD = os.getcwd()"
   ]
  },
  {
   "cell_type": "code",
   "execution_count": 3,
   "id": "f405dc8a",
   "metadata": {},
   "outputs": [],
   "source": [
    "SRC_FOLDER = os.path.join(os.path.dirname(CWD), \"src\")"
   ]
  },
  {
   "cell_type": "code",
   "execution_count": 4,
   "id": "45470f13",
   "metadata": {},
   "outputs": [
    {
     "name": "stdout",
     "output_type": "stream",
     "text": [
      "\u001b[34m__pycache__\u001b[m\u001b[m   \u001b[31mhelpers.py\u001b[m\u001b[m    ml_metrics.py\r\n"
     ]
    }
   ],
   "source": [
    "! ls {SRC_FOLDER}"
   ]
  },
  {
   "cell_type": "code",
   "execution_count": 5,
   "id": "87ca335b",
   "metadata": {},
   "outputs": [],
   "source": [
    "# sys.modules"
   ]
  },
  {
   "cell_type": "code",
   "execution_count": 6,
   "id": "58cb30c0",
   "metadata": {},
   "outputs": [],
   "source": [
    "sys.path.insert(0, SRC_FOLDER)"
   ]
  },
  {
   "cell_type": "code",
   "execution_count": 7,
   "id": "0e18ed64",
   "metadata": {},
   "outputs": [],
   "source": [
    "from helpers import clean_df"
   ]
  },
  {
   "cell_type": "code",
   "execution_count": 8,
   "id": "25b47645",
   "metadata": {},
   "outputs": [],
   "source": [
    "DATA_FOLDER = os.path.join(os.path.dirname(CWD), \"data\")"
   ]
  },
  {
   "cell_type": "code",
   "execution_count": 9,
   "id": "4e96306a",
   "metadata": {},
   "outputs": [
    {
     "name": "stdout",
     "output_type": "stream",
     "text": [
      "README.md                 user_behavior_dataset.csv\r\n"
     ]
    }
   ],
   "source": [
    "! ls {DATA_FOLDER}"
   ]
  },
  {
   "cell_type": "code",
   "execution_count": 10,
   "id": "5477ade3",
   "metadata": {},
   "outputs": [],
   "source": [
    "FILE_PATH = os.path.join(DATA_FOLDER, \"user_behavior_dataset.csv\")"
   ]
  },
  {
   "cell_type": "code",
   "execution_count": 11,
   "id": "67ba8ca7",
   "metadata": {},
   "outputs": [],
   "source": [
    "df = clean_df(path=FILE_PATH)"
   ]
  },
  {
   "cell_type": "code",
   "execution_count": 12,
   "id": "623427ca",
   "metadata": {},
   "outputs": [
    {
     "data": {
      "text/plain": [
       "Gender\n",
       "1    364\n",
       "0    336\n",
       "Name: count, dtype: int64"
      ]
     },
     "execution_count": 12,
     "metadata": {},
     "output_type": "execute_result"
    }
   ],
   "source": [
    "df[\"Gender\"].value_counts()"
   ]
  },
  {
   "cell_type": "code",
   "execution_count": null,
   "id": "0d6d46e2",
   "metadata": {},
   "outputs": [],
   "source": []
  }
 ],
 "metadata": {
  "kernelspec": {
   "display_name": "env_aaamlp",
   "language": "python",
   "name": "env_aaamlp"
  },
  "language_info": {
   "codemirror_mode": {
    "name": "ipython",
    "version": 3
   },
   "file_extension": ".py",
   "mimetype": "text/x-python",
   "name": "python",
   "nbconvert_exporter": "python",
   "pygments_lexer": "ipython3",
   "version": "3.10.15"
  }
 },
 "nbformat": 4,
 "nbformat_minor": 5
}
